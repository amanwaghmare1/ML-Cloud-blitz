{
 "cells": [
  {
   "cell_type": "code",
   "execution_count": 2,
   "id": "df13f09d",
   "metadata": {},
   "outputs": [
    {
     "name": "stdout",
     "output_type": "stream",
     "text": [
      "hello\n"
     ]
    }
   ],
   "source": [
    "print(\"hello\")"
   ]
  },
  {
   "cell_type": "code",
   "execution_count": 1,
   "id": "94de223a",
   "metadata": {},
   "outputs": [],
   "source": [
    "url = \"mongodb+srv://aman1126:<db_password>@cluster0.kqfrl5b.mongodb.net/?retryWrites=true&w=majority&appName=Cluster0\""
   ]
  },
  {
   "cell_type": "code",
   "execution_count": 7,
   "id": "7332112c",
   "metadata": {},
   "outputs": [
    {
     "ename": "NameError",
     "evalue": "name 'pymongo' is not defined",
     "output_type": "error",
     "traceback": [
      "\u001b[31m---------------------------------------------------------------------------\u001b[39m",
      "\u001b[31mNameError\u001b[39m                                 Traceback (most recent call last)",
      "\u001b[36mCell\u001b[39m\u001b[36m \u001b[39m\u001b[32mIn[7]\u001b[39m\u001b[32m, line 2\u001b[39m\n\u001b[32m      1\u001b[39m \u001b[38;5;66;03m# Create a MongoClient instance using the URI\u001b[39;00m\n\u001b[32m----> \u001b[39m\u001b[32m2\u001b[39m client = \u001b[43mpymongo\u001b[49m.MongoClient(url)\n",
      "\u001b[31mNameError\u001b[39m: name 'pymongo' is not defined"
     ]
    }
   ],
   "source": [
    "# Create a MongoClient instance using the URI\n",
    "client = pymongo.MongoClient(url)"
   ]
  }
 ],
 "metadata": {
  "kernelspec": {
   "display_name": ".venv",
   "language": "python",
   "name": "python3"
  },
  "language_info": {
   "codemirror_mode": {
    "name": "ipython",
    "version": 3
   },
   "file_extension": ".py",
   "mimetype": "text/x-python",
   "name": "python",
   "nbconvert_exporter": "python",
   "pygments_lexer": "ipython3",
   "version": "3.13.5"
  }
 },
 "nbformat": 4,
 "nbformat_minor": 5
}
